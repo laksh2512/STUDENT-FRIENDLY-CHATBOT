{
  "cells": [
    {
      "cell_type": "code",
      "execution_count": null,
      "metadata": {
        "colab": {
          "background_save": true,
          "base_uri": "https://localhost:8080/"
        },
        "id": "154bbfeK6CJM",
        "outputId": "1e4ed7c7-d9f0-4e0e-9a33-920c9261d8b6"
      },
      "outputs": [
        {
          "name": "stdout",
          "output_type": "stream",
          "text": [
            "Engineering Mathematics 1,Engineering Physics 1,Engineering Chemistry 1,Computer Programming,Basics of Electrical Engineering\n",
            "Engineering Mathematics 1,Engineering Physics 1,Engineering Chemistry 1,Computer Programming,Basics of Electrical Engineering\n"
          ]
        }
      ],
      "source": [
        "import nltk\n",
        "from nltk.chat.util import Chat, reflections\n",
        "\n",
        "# Define the possible patterns and responses\n",
        "patterns = [\n",
        "    (r\"hi|hello|hey\", [\"Hello! How can I help you?\"]),\n",
        "    (r\"let me know about the ISE department?\",[\"Information Science and Engineering (ISE) is a field of study that focuses on the application of computer science, information technology, and communication systems to design, develop and manage information systems. ISE integrates principles from computer science, information theory, mathematics, and management science to develop systems that effectively manage and utilize information.\"]),\n",
        "    (r\"let me know about the total intakes in ISE?\",[\"60\"]),\n",
        "    (r\"what are the subjects offered in Sem 1 by the ISE department?|ISE Sem 1 sub|ISE semester 1 subjects|\", [\"Engineering Mathematics 1,Engineering Physics 1,Engineering Chemistry 1,Computer Programming,Basics of Electrical Engineering\"]),\n",
        "    (r\"what are the subjects offered in Sem 2 by the ISE department?|ISE Sem 2 sub|ISE semester 2 subjects|\", [\"Engineering Mathematics 2,Engineering Physics 2,Engineering Chemistry 2,Problem solving and peogramming using python,Digital system design,Engineering Graphics\"]),\n",
        "    (r\"what are the subjects offered in Sem 3 by the ISE department?|ISE Sem 3 sub|ISE semester 3 subjects|\", [\"Probability and Statistics,Computer Architecture,Data structures and algorithms,Object oriented programmings,DBMS,Web technology\"]),\n",
        "    (r\"what are the subjects offered in Sem 4 by the ISE department?|ISE Sem 4 sub|ISE semester 4 subjects|\", [\"FLAT,Design and analysis of algorithms,operating systems,java programming,information storage and retrieval,software enngineering\"]),\n",
        "    (r\"what are the subjects offered in Sem 5 by the ISE department?|ISE Sem 5 sub|ISE semester 5 subjects|\", [\"Compiler design,Microprocessrs and microcontrollers,Data mining,Computer Networks,Computational intelligene,Information coding techniques\"]),\n",
        "    (r\"what are the subjects offered in Sem 6 by the ISE department?|ISE Sem 6 sub|ISE semester 6 subjects|\", [\"Principles of Management,Big data analyics,Cloud infreastructure and services,Visulization techniques,Social network analysis\"]),\n",
        "    (r\"what are the subjects offered in Sem 7 by the ISE department?|ISE Sem 7 sub|ISE semester 7 subjects|\", [\"Professional ethics in engineering,Machine learning,Internet of things,Information security,Project work-1\"]),\n",
        "    (r\"what are the subjects offered in Sem 8 by the ISE department?|ISE Sem 8 sub|ISE semester 8 subjects|\", [\"Open elective-energy storing devices,Project work-2\"]),\n",
        "    (r\"who are the faculty members of the ISE department?|faculty of ISE\", [\"Dr. Nirmaladevi, Dr. Rajeshkumar, Ms. Nandhini,Mr. Pandian,Mr. Rajeshkanna,Mr. Gopal,Ms. Poornima,Mrs. Mekala,Mr.Somasundaram\"]),\n",
        "    (r\"let me know about the CSBS department?\",[\"Computer Science and Business Systems is a field that combines the technical knowledge of computer science with the business skills needed to manage and operate a company.\"]),\n",
        "    (r\"let me know about the total intakes in CSBS?\",[\"64\"]),\n",
        "    (r\"what are the subjects offered  in Sem 1 by the CSBS department?|CSBS Sem 1 sub |CSBS semester 1 subjects|\", [\"Discrete Mathematics,Probability and statistics,Fundamentals of physics, Chemistry,Fundamentals of computer science,Principles of Electrical Engineering\"]),\n",
        "    (r\"what are the subjects offered  in Sem 2 by the CSBS department?|CSBS Sem 2 sub |CSBS semester 2 subjects|\", [\"Linear algebra,Data structures and algorithms,Principles of Elctroniccs,Fundamentals of Economics,Environmental science\"]),\n",
        "    (r\"what are the subjects offered  in Sem 3 by the CSBS department?|CSBS Sem 3 sub |CSBS semester 3 subjects|\", [\"FLAT,Computer Organization and architecture,Objec oriented programming,Computational statistics,Software engineering,Financial management\"]),\n",
        "    (r\"what are the subjects offered  in Sem 4 by the CSBS department?|CSBS Sem 4 sub |CSBS semester 4 subjects|\", [\"Operating systems,DBMS,Software design with UML,Introduction to innovation-IP management and entrepreneurship,Operating research,Marketing research and Managment \"]),\n",
        "    (r\"what are the subjects offered  in Sem 5 by the CSBS department?|CSBS Sem 5 sub |CSBS semester 5 subjects|\", [\"Design and analsis of algorithms,Compiler design,Business stratergy,Design thinking,Cloud-microservies and applications,Behavioural economics\"]),\n",
        "    (r\"what are the subjects offered  in Sem 6 by the CSBS department?|CSBS Sem 6 sub |CSBS semester 6 subjects|\", [\"Computer networks,Information security,Artificia intelligenc,Modern web applicatioms,Data mining and analytics\"]),\n",
        "    (r\"who are the faculty members of the CSBS department?|faculty of CSBS\",[\"Dr. Sasikala, Mrs. Supriya, Mr. Chandru,Mrs. Padmashree,Ms. Yuvalatha,Ms. Shobika,Mr. Vinothkumar,Mr. Sathish,Ms. Madhumitha\"]),\n",
        "    (r\"let me know about the CT department?\",[\"Computer Technology involves designing and constructing computer hardware and software for office, school, and home environments. The industry offers a variety of jobs from which you can choose, including computer specialist, computer systems analyst, database administrator and information security analyst.\"]),\n",
        "    (r\"let me know about the total intakes in CT?\",[\"64\"]),\n",
        "    (r\"what are the subjects offered in Sem 1 by the CT department?|Sem 1 sub CT|semester CT 1 subjects|\", [\"Engineering Mathematics 1,Engineering Physics 1,Engineering Chemistry 1,Computer Programming,Basics of Electrical Engineering,PC hardware and trouble shooting\"]),\n",
        "    (r\"what are the subjects offered in Sem 2 by the CT department?|Sem 2 sub CT|semester CT 2 subjects|\", [\"Engineering Mathematics 2,Engineering Physics 2,Engineering Chemistry 2,Problem solving and peogramming using python,Digital system design,Engineering Graphics\"]),\n",
        "    (r\"what are the subjects offered in Sem 3 by the CT department?|Sem 3 sub CT|semester CT 3 subjects|\", [\"Engineering Mathematics 3,Computer Organization and Architecture,Data structures and algorithms,Database technology,Operating systems,Java programming\"]),\n",
        "    (r\"what are the subjects offered in Sem 4 by the CT department?|Sem 4 sub CT|semester CT 4 subjects|\", [\"Probability and statistics,Analysis of algorithms,Microprocessrs and microcontrollers,Computer Networks,Theory of computation,Software engineering\"]),\n",
        "    (r\"what are the subjects offered in Sem 5 by the CT department?|Sem 5 sub CT|semester CT 5 subjects|\", [\"Compiler design,Web technology,Embedded systems,Data mining and data warehousing,Open source technology,Applied Laser science\"]),\n",
        "    (r\"what are the subjects offered in Sem 6 by the CT department?|Sem 6 sub CT|semester CT 6 subjects|\", [\"Principles of Management,Machine learning techiques,Security in computing,Parallel and distributed computing,NOSQL database,Cyber Forencis\"]),\n",
        "    (r\"who are the faculty members of the CT department?|faculty of CT\", [\"Dr. Ramesh, Mr. Ramya, Ms. Soundariya,Ms. Suganya,Mr. Divakar,Ms. Prasannakiruba,Ms.Nithya,Mrs.Haripriya,Mr.Gunalan\"]),\n",
        "    (r\"(.*)\", [\"I'm sorry, I didn't understand that. Can you please ask me something else?\"]),\n",
        "]\n",
        "\n",
        "# Create the chatbot and start the conversation\n",
        "chatbot = Chat(patterns, reflections)\n",
        "chatbot.converse()\n"
      ]
    }
  ],
  "metadata": {
    "colab": {
      "provenance": []
    },
    "kernelspec": {
      "display_name": "Python 3",
      "name": "python3"
    },
    "language_info": {
      "name": "python"
    }
  },
  "nbformat": 4,
  "nbformat_minor": 0
}